{
 "cells": [
  {
   "cell_type": "markdown",
   "metadata": {},
   "source": [
    "# Bankruptcy Prediction"
   ]
  },
  {
   "cell_type": "code",
   "execution_count": 1,
   "metadata": {},
   "outputs": [],
   "source": [
    "from sklearn.metrics import recall_score\n",
    "from sklearn.metrics import precision_score\n",
    "from sklearn.metrics import accuracy_score\n",
    "from sklearn.metrics import confusion_matrix"
   ]
  },
  {
   "cell_type": "markdown",
   "metadata": {},
   "source": [
    "## 1. Using full data"
   ]
  },
  {
   "cell_type": "markdown",
   "metadata": {},
   "source": [
    "### Load Data"
   ]
  },
  {
   "cell_type": "code",
   "execution_count": 2,
   "metadata": {},
   "outputs": [],
   "source": [
    "from scipy.io import arff\n",
    "import pandas as pd\n",
    "\n",
    "\n",
    "def load_data(path):\n",
    "    data = arff.loadarff(path)\n",
    "    df = pd.DataFrame(data[0])\n",
    "\n",
    "    #shuffle\n",
    "    df = df.sample(frac = 1)\n",
    "\n",
    "    #prep Data\n",
    "    df = df.fillna(df.mean())\n",
    "    df['class'] = df['class'].astype(float, errors = 'raise')\n",
    "\n",
    "    #split\n",
    "    train=df.sample(frac=0.8,random_state=200) \n",
    "    test=df.drop(train.index)\n",
    "\n",
    "    x, y = train.iloc[:,:-1], train.iloc[:,-1]\n",
    "    x_test, y_test = test.iloc[:,:-1], test.iloc[:,-1]\n",
    "    \n",
    "    return df, x, y, x_test, y_test"
   ]
  },
  {
   "cell_type": "code",
   "execution_count": 3,
   "metadata": {},
   "outputs": [],
   "source": [
    "df1, x1, y1, x_test1, y_test1 = load_data('data/1year.arff')\n",
    "df2, x2, y2, x_test2, y_test2 = load_data('data/2year.arff')\n",
    "df3, x3, y3, x_test3, y_test3 = load_data('data/3year.arff')"
   ]
  },
  {
   "cell_type": "markdown",
   "metadata": {},
   "source": [
    "### Simple Logistic Regression"
   ]
  },
  {
   "cell_type": "code",
   "execution_count": 4,
   "metadata": {},
   "outputs": [
    {
     "name": "stderr",
     "output_type": "stream",
     "text": [
      "C:\\Users\\Lenovo\\anaconda3\\lib\\site-packages\\sklearn\\linear_model\\_logistic.py:940: ConvergenceWarning: lbfgs failed to converge (status=1):\n",
      "STOP: TOTAL NO. of ITERATIONS REACHED LIMIT.\n",
      "\n",
      "Increase the number of iterations (max_iter) or scale the data as shown in:\n",
      "    https://scikit-learn.org/stable/modules/preprocessing.html\n",
      "Please also refer to the documentation for alternative solver options:\n",
      "    https://scikit-learn.org/stable/modules/linear_model.html#logistic-regression\n",
      "  extra_warning_msg=_LOGISTIC_SOLVER_CONVERGENCE_MSG)\n",
      "C:\\Users\\Lenovo\\anaconda3\\lib\\site-packages\\sklearn\\metrics\\_classification.py:1272: UndefinedMetricWarning: Precision is ill-defined and being set to 0.0 due to no predicted samples. Use `zero_division` parameter to control this behavior.\n",
      "  _warn_prf(average, modifier, msg_start, len(result))\n",
      "C:\\Users\\Lenovo\\anaconda3\\lib\\site-packages\\sklearn\\linear_model\\_logistic.py:940: ConvergenceWarning: lbfgs failed to converge (status=1):\n",
      "STOP: TOTAL NO. of ITERATIONS REACHED LIMIT.\n",
      "\n",
      "Increase the number of iterations (max_iter) or scale the data as shown in:\n",
      "    https://scikit-learn.org/stable/modules/preprocessing.html\n",
      "Please also refer to the documentation for alternative solver options:\n",
      "    https://scikit-learn.org/stable/modules/linear_model.html#logistic-regression\n",
      "  extra_warning_msg=_LOGISTIC_SOLVER_CONVERGENCE_MSG)\n"
     ]
    },
    {
     "name": "stdout",
     "output_type": "stream",
     "text": [
      "Accuracy_1:  0.9672597864768683  Precision:  0.0  Recall:  0.0\n",
      "Accuracy_2:  0.9528255528255528  Precision:  0.0  Recall:  0.0\n",
      "Accuracy_3:  0.9557353641123275  Precision:  0.0  Recall:  0.0\n"
     ]
    },
    {
     "name": "stderr",
     "output_type": "stream",
     "text": [
      "C:\\Users\\Lenovo\\anaconda3\\lib\\site-packages\\sklearn\\linear_model\\_logistic.py:940: ConvergenceWarning: lbfgs failed to converge (status=1):\n",
      "STOP: TOTAL NO. of ITERATIONS REACHED LIMIT.\n",
      "\n",
      "Increase the number of iterations (max_iter) or scale the data as shown in:\n",
      "    https://scikit-learn.org/stable/modules/preprocessing.html\n",
      "Please also refer to the documentation for alternative solver options:\n",
      "    https://scikit-learn.org/stable/modules/linear_model.html#logistic-regression\n",
      "  extra_warning_msg=_LOGISTIC_SOLVER_CONVERGENCE_MSG)\n",
      "C:\\Users\\Lenovo\\anaconda3\\lib\\site-packages\\sklearn\\metrics\\_classification.py:1272: UndefinedMetricWarning: Precision is ill-defined and being set to 0.0 due to no predicted samples. Use `zero_division` parameter to control this behavior.\n",
      "  _warn_prf(average, modifier, msg_start, len(result))\n"
     ]
    }
   ],
   "source": [
    "from sklearn.linear_model import LogisticRegression\n",
    "\n",
    "clf_1 = LogisticRegression(random_state=0, multi_class='multinomial').fit(x1, y1)\n",
    "\n",
    "res_1 = clf_1.predict(x_test1)\n",
    "precision_1 = precision_score(y_test1, res_1)\n",
    "accuracy_1 = clf_1.score(x_test1, y_test1)\n",
    "recall_1 = recall_score(y_test1, res_1)\n",
    "\n",
    "clf_2 = LogisticRegression(random_state=0, multi_class='multinomial').fit(x2, y2)\n",
    "\n",
    "res_2 = clf_2.predict(x_test2)\n",
    "precision_2 = precision_score(y_test2, res_2)\n",
    "accuracy_2 = clf_2.score(x_test2, y_test2)\n",
    "recall_2 = recall_score(y_test2, res_2)\n",
    "\n",
    "clf_3 = LogisticRegression(random_state=0, multi_class='multinomial').fit(x3, y3)\n",
    "\n",
    "res_3 = clf_3.predict(x_test3)\n",
    "precision_3 = precision_score(y_test3, res_3)\n",
    "accuracy_3 = clf_3.score(x_test3, y_test3)\n",
    "recall_3 = recall_score(y_test3, res_3)\n",
    "\n",
    "print(\"Accuracy_1: \", accuracy_1, \" Precision: \", precision_1, \" Recall: \", recall_1)\n",
    "print(\"Accuracy_2: \", accuracy_2, \" Precision: \", precision_1, \" Recall: \", recall_2)\n",
    "print(\"Accuracy_3: \", accuracy_3, \" Precision: \", precision_1, \" Recall: \", recall_3)"
   ]
  },
  {
   "cell_type": "markdown",
   "metadata": {},
   "source": [
    "### Random Forest Regressor"
   ]
  },
  {
   "cell_type": "code",
   "execution_count": 5,
   "metadata": {},
   "outputs": [
    {
     "name": "stdout",
     "output_type": "stream",
     "text": [
      "Accuracy_1:  0.9814946619217082  Precision:  0.8571428571428571  Recall:  0.5217391304347826\n",
      "Accuracy_2:  0.9714987714987715  Precision:  0.8571428571428571  Recall:  0.38461538461538464\n",
      "Accuracy_3:  0.9604950023798191  Precision:  0.8571428571428571  Recall:  0.21505376344086022\n"
     ]
    }
   ],
   "source": [
    "from sklearn.ensemble import RandomForestRegressor\n",
    "\n",
    "rf1 = RandomForestRegressor(random_state=0)\n",
    "rf1.fit(x1, y1)\n",
    "res_1 = rf1.predict(x_test1)\n",
    "res_1[res_1 > 0.5] = 1\n",
    "res_1[res_1 <= 0.5] = 0\n",
    "precision_1 = precision_score(y_test1, res_1)\n",
    "accuracy_1 = accuracy_score(y_test1, res_1)\n",
    "recall_1 = recall_score(y_test1, res_1)\n",
    "\n",
    "rf2 = RandomForestRegressor(random_state=0)\n",
    "rf2.fit(x2, y2)\n",
    "res_2 = rf2.predict(x_test2)\n",
    "res_2[res_2 > 0.5] = 1\n",
    "res_2[res_2 <= 0.5] = 0\n",
    "precision_2 = precision_score(y_test2, res_2)\n",
    "accuracy_2 = accuracy_score(y_test2, res_2)\n",
    "recall_2 = recall_score(y_test2, res_2)\n",
    "\n",
    "rf3 = RandomForestRegressor(random_state=0)\n",
    "rf3.fit(x3, y3)\n",
    "res_3 = rf3.predict(x_test3)\n",
    "res_3[res_3 > 0.5] = 1\n",
    "res_3[res_3 <= 0.5] = 0\n",
    "precision_3 = precision_score(y_test3, res_3)\n",
    "accuracy_3 = accuracy_score(y_test3, res_3)\n",
    "recall_3 = recall_score(y_test3, res_3)\n",
    "\n",
    "print(\"Accuracy_1: \", accuracy_1, \" Precision: \", precision_1, \" Recall: \", recall_1)\n",
    "print(\"Accuracy_2: \", accuracy_2, \" Precision: \", precision_1, \" Recall: \", recall_2)\n",
    "print(\"Accuracy_3: \", accuracy_3, \" Precision: \", precision_1, \" Recall: \", recall_3)"
   ]
  },
  {
   "cell_type": "markdown",
   "metadata": {},
   "source": [
    "### Random Forest Classifier"
   ]
  },
  {
   "cell_type": "code",
   "execution_count": 6,
   "metadata": {},
   "outputs": [
    {
     "name": "stdout",
     "output_type": "stream",
     "text": [
      "Accuracy_1:  0.9800711743772242  Precision:  0.875  Recall:  0.45652173913043476\n",
      "Accuracy_2:  0.9646191646191646  Precision:  0.8518518518518519  Recall:  0.25274725274725274\n",
      "Accuracy_3:  0.9581151832460733  Precision:  0.6190476190476191  Recall:  0.13978494623655913\n"
     ]
    }
   ],
   "source": [
    "from sklearn.ensemble import RandomForestClassifier\n",
    "\n",
    "rfc1 = RandomForestClassifier(random_state=0)\n",
    "rfc1.fit(x1, y1)\n",
    "res_1 = rfc1.predict(x_test1)\n",
    "precision_1 = precision_score(y_test1, res_1)\n",
    "accuracy_1 = accuracy_score(y_test1, res_1)\n",
    "recall_1 = recall_score(y_test1, res_1)\n",
    "\n",
    "rfc2 = RandomForestClassifier(random_state=0)\n",
    "rfc2.fit(x2, y2)\n",
    "res_2 = rfc2.predict(x_test2)\n",
    "precision_2 = precision_score(y_test2, res_2)\n",
    "accuracy_2 = accuracy_score(y_test2, res_2)\n",
    "recall_2 = recall_score(y_test2, res_2)\n",
    "\n",
    "rfc3 = RandomForestClassifier(random_state=0)\n",
    "rfc3.fit(x3, y3)\n",
    "res_3 = rfc3.predict(x_test3)\n",
    "precision_3 = precision_score(y_test3, res_3)\n",
    "accuracy_3 = accuracy_score(y_test3, res_3)\n",
    "recall_3 = recall_score(y_test3, res_3)\n",
    "\n",
    "print(\"Accuracy_1: \", accuracy_1, \" Precision: \", precision_1, \" Recall: \", recall_1)\n",
    "print(\"Accuracy_2: \", accuracy_2, \" Precision: \", precision_2, \" Recall: \", recall_2)\n",
    "print(\"Accuracy_3: \", accuracy_3, \" Precision: \", precision_3, \" Recall: \", recall_3)"
   ]
  },
  {
   "cell_type": "markdown",
   "metadata": {},
   "source": [
    "### SVR"
   ]
  },
  {
   "cell_type": "code",
   "execution_count": 7,
   "metadata": {},
   "outputs": [
    {
     "name": "stderr",
     "output_type": "stream",
     "text": [
      "C:\\Users\\Lenovo\\anaconda3\\lib\\site-packages\\sklearn\\metrics\\_classification.py:1272: UndefinedMetricWarning: Precision is ill-defined and being set to 0.0 due to no predicted samples. Use `zero_division` parameter to control this behavior.\n",
      "  _warn_prf(average, modifier, msg_start, len(result))\n",
      "C:\\Users\\Lenovo\\anaconda3\\lib\\site-packages\\sklearn\\metrics\\_classification.py:1272: UndefinedMetricWarning: Precision is ill-defined and being set to 0.0 due to no predicted samples. Use `zero_division` parameter to control this behavior.\n",
      "  _warn_prf(average, modifier, msg_start, len(result))\n"
     ]
    },
    {
     "name": "stdout",
     "output_type": "stream",
     "text": [
      "Accuracy_1:  0.9672597864768683  Precision:  0.0  Recall:  0.0\n",
      "Accuracy_2:  0.9552825552825552  Precision:  0.0  Recall:  0.0\n",
      "Accuracy_3:  0.9557353641123275  Precision:  0.0  Recall:  0.0\n"
     ]
    },
    {
     "name": "stderr",
     "output_type": "stream",
     "text": [
      "C:\\Users\\Lenovo\\anaconda3\\lib\\site-packages\\sklearn\\metrics\\_classification.py:1272: UndefinedMetricWarning: Precision is ill-defined and being set to 0.0 due to no predicted samples. Use `zero_division` parameter to control this behavior.\n",
      "  _warn_prf(average, modifier, msg_start, len(result))\n"
     ]
    }
   ],
   "source": [
    "from sklearn.svm import SVR\n",
    "\n",
    "svr1 = SVR(kernel=\"rbf\").fit(x1, y1)\n",
    "res_1 = svr1.predict(x_test1)\n",
    "res_1[res_1 > 0.5] = 1\n",
    "res_1[res_1 <= 0.5] = 0\n",
    "precision_1 = precision_score(y_test1, res_1)\n",
    "accuracy_1 = accuracy_score(y_test1, res_1)\n",
    "recall_1 = recall_score(y_test1, res_1)\n",
    "\n",
    "svr2 = SVR(kernel=\"rbf\").fit(x2, y2)\n",
    "res_2 = svr2.predict(x_test2)\n",
    "res_2[res_2 > 0.5] = 1\n",
    "res_2[res_2 <= 0.5] = 0\n",
    "precision_2 = precision_score(y_test2, res_2)\n",
    "accuracy_2 = accuracy_score(y_test2, res_2)\n",
    "recall_2 = recall_score(y_test2, res_2)\n",
    "\n",
    "svr3 = SVR(kernel=\"rbf\").fit(x3, y3)\n",
    "res_3 = svr3.predict(x_test3)\n",
    "res_3[res_3 > 0.5] = 1\n",
    "res_3[res_3 <= 0.5] = 0\n",
    "precision_3 = precision_score(y_test3, res_3)\n",
    "accuracy_3 = accuracy_score(y_test3, res_3)\n",
    "recall_3 = recall_score(y_test3, res_3)\n",
    "\n",
    "print(\"Accuracy_1: \", accuracy_1, \" Precision: \", precision_1, \" Recall: \", recall_1)\n",
    "print(\"Accuracy_2: \", accuracy_2, \" Precision: \", precision_2, \" Recall: \", recall_2)\n",
    "print(\"Accuracy_3: \", accuracy_3, \" Precision: \", precision_3, \" Recall: \", recall_3)"
   ]
  },
  {
   "cell_type": "markdown",
   "metadata": {},
   "source": [
    "### Gradient Boosting Regressor "
   ]
  },
  {
   "cell_type": "code",
   "execution_count": 8,
   "metadata": {},
   "outputs": [
    {
     "name": "stdout",
     "output_type": "stream",
     "text": [
      "Accuracy_1:  0.9836298932384342  Precision:  0.9259259259259259  Recall:  0.5434782608695652\n",
      "Accuracy_2:  0.971007371007371  Precision:  0.9444444444444444  Recall:  0.37362637362637363\n",
      "Accuracy_3:  0.9638267491670633  Precision:  0.8695652173913043  Recall:  0.21505376344086022\n"
     ]
    }
   ],
   "source": [
    "from sklearn import ensemble\n",
    "\n",
    "reg1 = ensemble.GradientBoostingRegressor(random_state=0).fit(x1, y1)\n",
    "res_1 = reg1.predict(x_test1)\n",
    "res_1[res_1 > 0.5] = 1\n",
    "res_1[res_1 <= 0.5] = 0\n",
    "precision_1 = precision_score(y_test1, res_1)\n",
    "accuracy_1 = accuracy_score(y_test1, res_1)\n",
    "recall_1 = recall_score(y_test1, res_1)\n",
    "\n",
    "reg2 = ensemble.GradientBoostingRegressor(random_state=0).fit(x2, y2)\n",
    "res_2 = reg2.predict(x_test2)\n",
    "res_2[res_2 > 0.5] = 1\n",
    "res_2[res_2 <= 0.5] = 0\n",
    "precision_2 = precision_score(y_test2, res_2)\n",
    "accuracy_2 = accuracy_score(y_test2, res_2)\n",
    "recall_2 = recall_score(y_test2, res_2)\n",
    "\n",
    "reg3 = ensemble.GradientBoostingRegressor(random_state=0).fit(x3, y3)\n",
    "res_3 = reg3.predict(x_test3)\n",
    "res_3[res_3 > 0.5] = 1\n",
    "res_3[res_3 <= 0.5] = 0\n",
    "precision_3 = precision_score(y_test3, res_3)\n",
    "accuracy_3 = accuracy_score(y_test3, res_3)\n",
    "recall_3 = recall_score(y_test3, res_3)\n",
    "\n",
    "print(\"Accuracy_1: \", accuracy_1, \" Precision: \", precision_1, \" Recall: \", recall_1)\n",
    "print(\"Accuracy_2: \", accuracy_2, \" Precision: \", precision_2, \" Recall: \", recall_2)\n",
    "print(\"Accuracy_3: \", accuracy_3, \" Precision: \", precision_3, \" Recall: \", recall_3)"
   ]
  },
  {
   "cell_type": "markdown",
   "metadata": {},
   "source": [
    "## 2. Feature Selection"
   ]
  },
  {
   "cell_type": "code",
   "execution_count": 9,
   "metadata": {},
   "outputs": [
    {
     "data": {
      "text/plain": [
       "<matplotlib.axes._subplots.AxesSubplot at 0x1b087547e48>"
      ]
     },
     "execution_count": 9,
     "metadata": {},
     "output_type": "execute_result"
    },
    {
     "data": {
      "image/png": "[encoded data removed]",
      "text/plain": [
       "<Figure size 432x288 with 2 Axes>"
      ]
     },
     "metadata": {
      "needs_background": "light"
     },
     "output_type": "display_data"
    }
   ],
   "source": [
    "import seaborn as sns\n",
    "from sklearn.feature_selection import SelectFromModel\n",
    "\n",
    "sns.heatmap(x1.corr())\n",
    "#sns.heatmap(x2.corr())\n",
    "#sns.heatmap(x3.corr())"
   ]
  },
  {
   "cell_type": "markdown",
   "metadata": {},
   "source": [
    "### Regressor"
   ]
  },
  {
   "cell_type": "code",
   "execution_count": 10,
   "metadata": {},
   "outputs": [
    {
     "name": "stdout",
     "output_type": "stream",
     "text": [
      "Index(['Attr5', 'Attr9', 'Attr11', 'Attr15', 'Attr21', 'Attr27', 'Attr29',\n",
      "       'Attr34', 'Attr46', 'Attr56', 'Attr58', 'Attr61'],\n",
      "      dtype='object')\n",
      "Index(['Attr5', 'Attr9', 'Attr24', 'Attr27', 'Attr29', 'Attr32', 'Attr33',\n",
      "       'Attr34', 'Attr40', 'Attr44', 'Attr46', 'Attr52', 'Attr55', 'Attr56',\n",
      "       'Attr58', 'Attr61'],\n",
      "      dtype='object')\n",
      "Index(['Attr5', 'Attr13', 'Attr15', 'Attr21', 'Attr27', 'Attr29', 'Attr32',\n",
      "       'Attr33', 'Attr34', 'Attr35', 'Attr40', 'Attr41', 'Attr44', 'Attr46',\n",
      "       'Attr55', 'Attr56', 'Attr58', 'Attr61'],\n",
      "      dtype='object')\n"
     ]
    }
   ],
   "source": [
    "sel1_reg = SelectFromModel(RandomForestRegressor(n_estimators = 100))\n",
    "sel1_reg.fit(x1, y1)\n",
    "selected_feat_reg1= x1.columns[(sel1_reg.get_support())]\n",
    "print(selected_feat_reg1)\n",
    "\n",
    "sel2_reg = SelectFromModel(RandomForestRegressor(n_estimators = 100))\n",
    "sel2_reg.fit(x2, y2)\n",
    "selected_feat_reg2= x2.columns[(sel2_reg.get_support())]\n",
    "print(selected_feat_reg2)\n",
    "\n",
    "sel3_reg = SelectFromModel(RandomForestRegressor(n_estimators = 100))\n",
    "sel3_reg.fit(x3, y3)\n",
    "selected_feat_reg3= x3.columns[(sel3_reg.get_support())]\n",
    "print(selected_feat_reg3)"
   ]
  },
  {
   "cell_type": "code",
   "execution_count": 11,
   "metadata": {},
   "outputs": [
    {
     "data": {
      "text/plain": [
       "<matplotlib.axes._subplots.AxesSubplot at 0x1b0875e9c08>"
      ]
     },
     "execution_count": 11,
     "metadata": {},
     "output_type": "execute_result"
    },
    {
     "data": {
      "image/png": "[encoded data removed]",
      "text/plain": [
       "<Figure size 432x288 with 2 Axes>"
      ]
     },
     "metadata": {
      "needs_background": "light"
     },
     "output_type": "display_data"
    }
   ],
   "source": [
    "sns.heatmap(x1[selected_feat_reg1.values].corr())\n",
    "#sns.heatmap(x2[selected_feat_reg2.values].corr())\n",
    "#sns.heatmap(x3[selected_feat_reg3.values].corr())"
   ]
  },
  {
   "cell_type": "markdown",
   "metadata": {},
   "source": [
    "### Classifier"
   ]
  },
  {
   "cell_type": "code",
   "execution_count": 12,
   "metadata": {},
   "outputs": [
    {
     "name": "stdout",
     "output_type": "stream",
     "text": [
      "Index(['Attr6', 'Attr9', 'Attr11', 'Attr27', 'Attr29', 'Attr34', 'Attr35',\n",
      "       'Attr40', 'Attr46', 'Attr56', 'Attr58'],\n",
      "      dtype='object')\n",
      "Index(['Attr6', 'Attr9', 'Attr22', 'Attr24', 'Attr27', 'Attr29', 'Attr34',\n",
      "       'Attr36', 'Attr40', 'Attr41', 'Attr44', 'Attr46', 'Attr55', 'Attr56',\n",
      "       'Attr58', 'Attr61'],\n",
      "      dtype='object')\n",
      "Index(['Attr6', 'Attr9', 'Attr13', 'Attr21', 'Attr24', 'Attr27', 'Attr29',\n",
      "       'Attr34', 'Attr35', 'Attr40', 'Attr41', 'Attr44', 'Attr46', 'Attr55',\n",
      "       'Attr56', 'Attr58', 'Attr61'],\n",
      "      dtype='object')\n"
     ]
    }
   ],
   "source": [
    "sel1_cls = SelectFromModel(RandomForestClassifier(n_estimators = 100))\n",
    "sel1_cls.fit(x1, y1)\n",
    "selected_feat_cls1= x1.columns[(sel1_cls.get_support())]\n",
    "print(selected_feat_cls1)\n",
    "\n",
    "sel2_cls = SelectFromModel(RandomForestClassifier(n_estimators = 100))\n",
    "sel2_cls.fit(x2, y2)\n",
    "selected_feat_cls2= x2.columns[(sel2_cls.get_support())]\n",
    "print(selected_feat_cls2)\n",
    "\n",
    "sel3_cls = SelectFromModel(RandomForestClassifier(n_estimators = 100))\n",
    "sel3_cls.fit(x3, y3)\n",
    "selected_feat_cls3= x3.columns[(sel3_cls.get_support())]\n",
    "print(selected_feat_cls3)"
   ]
  },
  {
   "cell_type": "code",
   "execution_count": 13,
   "metadata": {},
   "outputs": [
    {
     "data": {
      "text/plain": [
       "<matplotlib.axes._subplots.AxesSubplot at 0x1b08779b508>"
      ]
     },
     "execution_count": 13,
     "metadata": {},
     "output_type": "execute_result"
    },
    {
     "data": {
      "image/png": "[encoded data removed]",
      "text/plain": [
       "<Figure size 432x288 with 2 Axes>"
      ]
     },
     "metadata": {
      "needs_background": "light"
     },
     "output_type": "display_data"
    }
   ],
   "source": [
    "#sns.heatmap(x1[selected_feat_cls1.values].corr())\n",
    "#sns.heatmap(x2[selected_feat_cls2.values].corr())\n",
    "sns.heatmap(x3[selected_feat_cls3.values].corr())"
   ]
  },
  {
   "cell_type": "markdown",
   "metadata": {},
   "source": [
    "## 3. Choosing a model with less Features"
   ]
  },
  {
   "cell_type": "markdown",
   "metadata": {},
   "source": [
    "### Random Forest Regressor"
   ]
  },
  {
   "cell_type": "code",
   "execution_count": 14,
   "metadata": {},
   "outputs": [
    {
     "name": "stdout",
     "output_type": "stream",
     "text": [
      "Accuracy_1:  0.9829181494661922  Precision:  0.8928571428571429  Recall:  0.5434782608695652\n",
      "[[1356    3]\n",
      " [  21   25]]\n",
      "Accuracy_2:  0.9714987714987715  Precision:  0.9230769230769231  Recall:  0.3956043956043956\n",
      "[[1941    3]\n",
      " [  55   36]]\n",
      "Accuracy_3:  0.9619228938600667  Precision:  0.6857142857142857  Recall:  0.25806451612903225\n",
      "[[1997   11]\n",
      " [  69   24]]\n"
     ]
    }
   ],
   "source": [
    "rf1 = RandomForestRegressor(random_state=0, n_estimators=300)#max_depth=100)\n",
    "rf1.fit(x1[selected_feat_reg1.values], y1)\n",
    "res_1 = rf1.predict(x_test1[selected_feat_reg1.values])\n",
    "res_1[res_1 > 0.5] = 1\n",
    "res_1[res_1 <= 0.5] = 0\n",
    "precision_1 = precision_score(y_test1, res_1)\n",
    "accuracy_1 = accuracy_score(y_test1, res_1)\n",
    "recall_1 = recall_score(y_test1, res_1)\n",
    "\n",
    "rf2 = RandomForestRegressor(random_state=0)\n",
    "rf2.fit(x2[selected_feat_reg2.values], y2)\n",
    "res_2 = rf2.predict(x_test2[selected_feat_reg2.values])\n",
    "res_2[res_2 > 0.5] = 1\n",
    "res_2[res_2 <= 0.5] = 0\n",
    "precision_2 = precision_score(y_test2, res_2)\n",
    "accuracy_2 = accuracy_score(y_test2, res_2)\n",
    "recall_2 = recall_score(y_test2, res_2)\n",
    "\n",
    "rf3 = RandomForestRegressor(random_state=0)\n",
    "rf3.fit(x3[selected_feat_reg3.values], y3)\n",
    "res_3 = rf3.predict(x_test3[selected_feat_reg3.values])\n",
    "res_3[res_3 > 0.5] = 1\n",
    "res_3[res_3 <= 0.5] = 0\n",
    "precision_3 = precision_score(y_test3, res_3)\n",
    "accuracy_3 = accuracy_score(y_test3, res_3)\n",
    "recall_3 = recall_score(y_test3, res_3)\n",
    "\n",
    "print(\"Accuracy_1: \", accuracy_1, \" Precision: \", precision_1, \" Recall: \", recall_1)\n",
    "print(confusion_matrix(y_test1, res_1))\n",
    "print(\"Accuracy_2: \", accuracy_2, \" Precision: \", precision_2, \" Recall: \", recall_2)\n",
    "print(confusion_matrix(y_test2, res_2))\n",
    "print(\"Accuracy_3: \", accuracy_3, \" Precision: \", precision_3, \" Recall: \", recall_3)\n",
    "print(confusion_matrix(y_test3, res_3))"
   ]
  },
  {
   "cell_type": "markdown",
   "metadata": {},
   "source": [
    "### Random Forest Classifier"
   ]
  },
  {
   "cell_type": "code",
   "execution_count": 15,
   "metadata": {},
   "outputs": [
    {
     "name": "stdout",
     "output_type": "stream",
     "text": [
      "Accuracy_1:  0.9843416370106761  Precision:  0.9615384615384616  Recall:  0.5434782608695652\n",
      "[[1358    1]\n",
      " [  21   25]]\n",
      "Accuracy_2:  0.9705159705159705  Precision:  0.9428571428571428  Recall:  0.3626373626373626\n",
      "[[1942    2]\n",
      " [  58   33]]\n",
      "Accuracy_3:  0.962874821513565  Precision:  0.8  Recall:  0.21505376344086022\n",
      "[[2003    5]\n",
      " [  73   20]]\n"
     ]
    }
   ],
   "source": [
    "from sklearn.ensemble import RandomForestClassifier\n",
    "\n",
    "rfc1 = RandomForestClassifier(random_state=0)\n",
    "rfc1.fit(x1[selected_feat_cls1.values], y1)\n",
    "res_1 = rfc1.predict(x_test1[selected_feat_cls1.values])\n",
    "precision_1 = precision_score(y_test1, res_1)\n",
    "accuracy_1 = accuracy_score(y_test1, res_1)\n",
    "recall_1 = recall_score(y_test1, res_1)\n",
    "\n",
    "rfc2 = RandomForestClassifier(random_state=0)\n",
    "rfc2.fit(x2[selected_feat_cls2.values], y2)\n",
    "res_2 = rfc2.predict(x_test2[selected_feat_cls2.values])\n",
    "precision_2 = precision_score(y_test2, res_2)\n",
    "accuracy_2 = accuracy_score(y_test2, res_2)\n",
    "recall_2 = recall_score(y_test2, res_2)\n",
    "\n",
    "rfc3 = RandomForestClassifier(random_state=0)\n",
    "rfc3.fit(x3[selected_feat_cls3.values], y3)\n",
    "res_3 = rfc3.predict(x_test3[selected_feat_cls3.values])\n",
    "precision_3 = precision_score(y_test3, res_3)\n",
    "accuracy_3 = accuracy_score(y_test3, res_3)\n",
    "recall_3 = recall_score(y_test3, res_3)\n",
    "\n",
    "print(\"Accuracy_1: \", accuracy_1, \" Precision: \", precision_1, \" Recall: \", recall_1)\n",
    "print(confusion_matrix(y_test1, res_1))\n",
    "print(\"Accuracy_2: \", accuracy_2, \" Precision: \", precision_2, \" Recall: \", recall_2)\n",
    "print(confusion_matrix(y_test2, res_2))\n",
    "print(\"Accuracy_3: \", accuracy_3, \" Precision: \", precision_3, \" Recall: \", recall_3)\n",
    "print(confusion_matrix(y_test3, res_3))"
   ]
  },
  {
   "cell_type": "markdown",
   "metadata": {},
   "source": [
    "## 4. Model Serving"
   ]
  },
  {
   "cell_type": "markdown",
   "metadata": {},
   "source": [
    "### Save Model"
   ]
  },
  {
   "cell_type": "code",
   "execution_count": 16,
   "metadata": {},
   "outputs": [
    {
     "data": {
      "text/plain": [
       "['./RandomForestClassifier_3.joblib']"
      ]
     },
     "execution_count": 16,
     "metadata": {},
     "output_type": "execute_result"
    }
   ],
   "source": [
    "import joblib\n",
    "joblib.dump(rfc3, \"./RandomForestClassifier_3.joblib\")"
   ]
  },
  {
   "cell_type": "markdown",
   "metadata": {},
   "source": [
    "### Load Model"
   ]
  },
  {
   "cell_type": "code",
   "execution_count": 17,
   "metadata": {},
   "outputs": [],
   "source": [
    "model = joblib.load(\"./RandomForestClassifier_3.joblib\")"
   ]
  },
  {
   "cell_type": "code",
   "execution_count": null,
   "metadata": {},
   "outputs": [],
   "source": []
  }
 ],
 "metadata": {
  "kernelspec": {
   "display_name": "Python 3",
   "language": "python",
   "name": "python3"
  },
  "language_info": {
   "codemirror_mode": {
    "name": "ipython",
    "version": 3
   },
   "file_extension": ".py",
   "mimetype": "text/x-python",
   "name": "python",
   "nbconvert_exporter": "python",
   "pygments_lexer": "ipython3",
   "version": "3.7.6"
  }
 },
 "nbformat": 4,
 "nbformat_minor": 4
}
