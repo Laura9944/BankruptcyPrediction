{
 "cells": [
  {
   "cell_type": "markdown",
   "metadata": {},
   "source": [
    "# Bankruptcy Prediction"
   ]
  },
  {
   "cell_type": "code",
   "execution_count": 1,
   "metadata": {},
   "outputs": [],
   "source": [
    "from sklearn.metrics import mean_squared_error\n",
    "from sklearn.metrics import r2_score"
   ]
  },
  {
   "cell_type": "markdown",
   "metadata": {},
   "source": [
    "## 1. Using full data"
   ]
  },
  {
   "cell_type": "markdown",
   "metadata": {},
   "source": [
    "### Load Data 5 Years"
   ]
  },
  {
   "cell_type": "code",
   "execution_count": 8,
   "metadata": {},
   "outputs": [],
   "source": [
    "from scipy.io import arff\n",
    "import pandas as pd\n",
    "\n",
    "data = arff.loadarff('data/1year.arff')\n",
    "df = pd.DataFrame(data[0])\n",
    "\n",
    "#shuffle\n",
    "df = df.sample(frac = 1)\n",
    "\n",
    "#prep Data\n",
    "df = df.fillna(0)\n",
    "df['class'] = df['class'].astype(float, errors = 'raise')\n",
    "\n",
    "#split\n",
    "train=df.sample(frac=0.8,random_state=200) \n",
    "test=df.drop(train.index)\n",
    "\n",
    "x, y = train.iloc[:,:-1], train.iloc[:,-1]\n",
    "x_test, y_test = test.iloc[:,:-1], test.iloc[:,-1]"
   ]
  },
  {
   "cell_type": "markdown",
   "metadata": {},
   "source": [
    "### Simple Logistic Regression"
   ]
  },
  {
   "cell_type": "code",
   "execution_count": 3,
   "metadata": {},
   "outputs": [
    {
     "name": "stdout",
     "output_type": "stream",
     "text": [
      "MSE:  0.04341637010676157  R2:  -0.06201982651796789\n"
     ]
    },
    {
     "name": "stderr",
     "output_type": "stream",
     "text": [
      "C:\\Users\\Lenovo\\anaconda3\\lib\\site-packages\\sklearn\\linear_model\\_logistic.py:940: ConvergenceWarning: lbfgs failed to converge (status=1):\n",
      "STOP: TOTAL NO. of ITERATIONS REACHED LIMIT.\n",
      "\n",
      "Increase the number of iterations (max_iter) or scale the data as shown in:\n",
      "    https://scikit-learn.org/stable/modules/preprocessing.html\n",
      "Please also refer to the documentation for alternative solver options:\n",
      "    https://scikit-learn.org/stable/modules/linear_model.html#logistic-regression\n",
      "  extra_warning_msg=_LOGISTIC_SOLVER_CONVERGENCE_MSG)\n"
     ]
    }
   ],
   "source": [
    "from sklearn.linear_model import LogisticRegression\n",
    "\n",
    "clf = LogisticRegression(random_state=0, multi_class='multinomial').fit(x, y)\n",
    "\n",
    "res = clf.predict(x_test)\n",
    "mse = mean_squared_error(y_test, res)\n",
    "r2 = r2_score(y_test, res)\n",
    "\n",
    "print(\"MSE: \", mse, \" R2: \", r2)"
   ]
  },
  {
   "cell_type": "markdown",
   "metadata": {},
   "source": [
    "### Random Forest Regressor"
   ]
  },
  {
   "cell_type": "code",
   "execution_count": 4,
   "metadata": {},
   "outputs": [
    {
     "name": "stdout",
     "output_type": "stream",
     "text": [
      "MSE:  0.023373950177935945  R2:  0.42824334572490697\n"
     ]
    }
   ],
   "source": [
    "from sklearn.ensemble import RandomForestRegressor\n",
    "\n",
    "rf = RandomForestRegressor(random_state=0)\n",
    "\n",
    "rf.fit(x, y)\n",
    "\n",
    "res = rf.predict(x_test)\n",
    "mse = mean_squared_error(y_test, res)\n",
    "r2 = r2_score(y_test, res)\n",
    "\n",
    "print(\"MSE: \", mse, \" R2: \", r2)"
   ]
  },
  {
   "cell_type": "markdown",
   "metadata": {},
   "source": [
    "### SVR"
   ]
  },
  {
   "cell_type": "code",
   "execution_count": 5,
   "metadata": {},
   "outputs": [
    {
     "name": "stdout",
     "output_type": "stream",
     "text": [
      "MSE:  0.044126429954149254  R2:  -0.07938879665724263\n"
     ]
    }
   ],
   "source": [
    "from sklearn.svm import SVR\n",
    "svr = SVR(kernel=\"rbf\")\n",
    "svr.fit(x, y)\n",
    "\n",
    "res = svr.predict(x_test)\n",
    "mse = mean_squared_error(y_test, res)\n",
    "r2 = r2_score(y_test, res)\n",
    "\n",
    "print(\"MSE: \", mse, \" R2: \", r2)"
   ]
  },
  {
   "cell_type": "markdown",
   "metadata": {},
   "source": [
    "### Gradient Boosting Regressor "
   ]
  },
  {
   "cell_type": "code",
   "execution_count": 1,
   "metadata": {},
   "outputs": [
    {
     "ename": "NameError",
     "evalue": "name 'x' is not defined",
     "output_type": "error",
     "traceback": [
      "\u001b[1;31m---------------------------------------------------------------------------\u001b[0m",
      "\u001b[1;31mNameError\u001b[0m                                 Traceback (most recent call last)",
      "\u001b[1;32m<ipython-input-1-5a67ab380af6>\u001b[0m in \u001b[0;36m<module>\u001b[1;34m\u001b[0m\n\u001b[0;32m      2\u001b[0m \u001b[1;33m\u001b[0m\u001b[0m\n\u001b[0;32m      3\u001b[0m \u001b[0mreg\u001b[0m \u001b[1;33m=\u001b[0m \u001b[0mensemble\u001b[0m\u001b[1;33m.\u001b[0m\u001b[0mGradientBoostingRegressor\u001b[0m\u001b[1;33m(\u001b[0m\u001b[0mrandom_state\u001b[0m\u001b[1;33m=\u001b[0m\u001b[1;36m0\u001b[0m\u001b[1;33m)\u001b[0m\u001b[1;33m\u001b[0m\u001b[1;33m\u001b[0m\u001b[0m\n\u001b[1;32m----> 4\u001b[1;33m \u001b[0mreg\u001b[0m\u001b[1;33m.\u001b[0m\u001b[0mfit\u001b[0m\u001b[1;33m(\u001b[0m\u001b[0mx\u001b[0m\u001b[1;33m,\u001b[0m \u001b[0my\u001b[0m\u001b[1;33m)\u001b[0m\u001b[1;33m\u001b[0m\u001b[1;33m\u001b[0m\u001b[0m\n\u001b[0m\u001b[0;32m      5\u001b[0m \u001b[1;33m\u001b[0m\u001b[0m\n\u001b[0;32m      6\u001b[0m \u001b[0mres\u001b[0m \u001b[1;33m=\u001b[0m \u001b[0mreg\u001b[0m\u001b[1;33m.\u001b[0m\u001b[0mpredict\u001b[0m\u001b[1;33m(\u001b[0m\u001b[0mx_test\u001b[0m\u001b[1;33m)\u001b[0m\u001b[1;33m\u001b[0m\u001b[1;33m\u001b[0m\u001b[0m\n",
      "\u001b[1;31mNameError\u001b[0m: name 'x' is not defined"
     ]
    }
   ],
   "source": [
    "from sklearn import ensemble\n",
    "\n",
    "reg = ensemble.GradientBoostingRegressor(random_state=0)\n",
    "reg.fit(x, y)\n",
    "\n",
    "res = reg.predict(x_test)\n",
    "mse = mean_squared_error(y_test, res)\n",
    "r2 = r2_score(y_test, res)\n",
    "\n",
    "print(\"MSE: \", mse, \" R2: \", r2)"
   ]
  },
  {
   "cell_type": "markdown",
   "metadata": {},
   "source": [
    "## Feature Selection"
   ]
  },
  {
   "cell_type": "code",
   "execution_count": 20,
   "metadata": {},
   "outputs": [
    {
     "name": "stdout",
     "output_type": "stream",
     "text": [
      "Feature 0: 1.751601\n",
      "Feature 1: 29.399117\n",
      "Feature 2: 29.294639\n",
      "Feature 3: 0.033786\n",
      "Feature 4: 0.027389\n",
      "Feature 5: 18.735862\n",
      "Feature 6: 1.610640\n",
      "Feature 7: 0.016882\n",
      "Feature 8: 0.252008\n",
      "Feature 9: 2.635839\n",
      "Feature 10: 0.383698\n",
      "Feature 11: 1.187550\n",
      "Feature 12: 0.137564\n",
      "Feature 13: 1.610640\n",
      "Feature 14: 0.411219\n",
      "Feature 15: 1.031872\n",
      "Feature 16: 0.008963\n",
      "Feature 17: 1.610640\n",
      "Feature 18: 0.127256\n",
      "Feature 19: 0.028410\n",
      "Feature 20: 0.147386\n",
      "Feature 21: 0.242282\n",
      "Feature 22: 0.131014\n",
      "Feature 23: 1.260257\n",
      "Feature 24: 3.115841\n",
      "Feature 25: 0.573527\n",
      "Feature 26: 0.257703\n",
      "Feature 27: 1.316431\n",
      "Feature 28: 9.288272\n",
      "Feature 29: 0.000349\n",
      "Feature 30: 0.121750\n",
      "Feature 31: 21.117259\n",
      "Feature 32: 0.330179\n",
      "Feature 33: 2.505114\n",
      "Feature 34: 0.255824\n",
      "Feature 35: 0.234771\n",
      "Feature 36: 0.059571\n",
      "Feature 37: 2.629851\n",
      "Feature 38: 0.016874\n",
      "Feature 39: 0.193846\n",
      "Feature 40: 0.217592\n",
      "Feature 41: 0.015624\n",
      "Feature 42: 0.049150\n",
      "Feature 43: 0.049750\n",
      "Feature 44: 0.051326\n",
      "Feature 45: 0.007476\n",
      "Feature 46: 0.298886\n",
      "Feature 47: 0.078065\n",
      "Feature 48: 0.021545\n",
      "Feature 49: 2.673038\n",
      "Feature 50: 28.915847\n",
      "Feature 51: 12.429666\n",
      "Feature 52: 0.267990\n",
      "Feature 53: 0.267784\n",
      "Feature 54: 2.684324\n",
      "Feature 55: 0.019822\n",
      "Feature 56: 23.996820\n",
      "Feature 57: 0.000758\n",
      "Feature 58: 0.007764\n",
      "Feature 59: 0.044475\n",
      "Feature 60: 0.000211\n",
      "Feature 61: 0.013146\n",
      "Feature 62: 0.000552\n",
      "Feature 63: 0.269549\n"
     ]
    }
   ],
   "source": [
    "from sklearn.feature_selection import SelectKBest\n",
    "from sklearn.feature_selection import f_regression\n",
    "\n",
    "fs = SelectKBest(score_func=f_regression, k='all')\n",
    "fs.fit(x, y)\n",
    "for i in range(len(fs.scores_)):\n",
    "    print('Feature %d: %f' % (i, fs.scores_[i]))"
   ]
  },
  {
   "cell_type": "code",
   "execution_count": null,
   "metadata": {},
   "outputs": [],
   "source": []
  }
 ],
 "metadata": {
  "kernelspec": {
   "display_name": "Python 3",
   "language": "python",
   "name": "python3"
  },
  "language_info": {
   "codemirror_mode": {
    "name": "ipython",
    "version": 3
   },
   "file_extension": ".py",
   "mimetype": "text/x-python",
   "name": "python",
   "nbconvert_exporter": "python",
   "pygments_lexer": "ipython3",
   "version": "3.7.6"
  }
 },
 "nbformat": 4,
 "nbformat_minor": 4
}
